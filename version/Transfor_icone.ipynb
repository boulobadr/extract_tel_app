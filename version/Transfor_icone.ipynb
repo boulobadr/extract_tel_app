{
 "cells": [
  {
   "cell_type": "code",
   "execution_count": 1,
   "id": "47f30740-d784-4e17-9f1f-983616c52fb5",
   "metadata": {},
   "outputs": [
    {
     "name": "stdout",
     "output_type": "stream",
     "text": [
      "✅ L'image a été convertie en icône avec succès.\n"
     ]
    }
   ],
   "source": [
    "from PIL import Image\n",
    "\n",
    "# Remplace 'mon_image.png' par le nom de ton fichier image\n",
    "image_path = 'mon_image.png'\n",
    "img = Image.open(image_path)\n",
    "\n",
    "# Convertir en mode RGBA pour gérer la transparence\n",
    "img = img.convert(\"RGBA\")\n",
    "\n",
    "# Définir les tailles d'icônes à générer\n",
    "icon_sizes = [(16, 16), (32, 32), (48, 48), (64, 64), (128, 128), (256, 256)]\n",
    "\n",
    "# Sauvegarder en .ico\n",
    "img.save(\"icone.ico\", format=\"ICO\", sizes=icon_sizes)\n",
    "\n",
    "print(\"✅ L'image a été convertie en icône avec succès.\")\n"
   ]
  },
  {
   "cell_type": "code",
   "execution_count": null,
   "id": "882b8f0e-b297-400d-aa18-a3652994e554",
   "metadata": {},
   "outputs": [],
   "source": []
  }
 ],
 "metadata": {
  "kernelspec": {
   "display_name": "Python [conda env:base] *",
   "language": "python",
   "name": "conda-base-py"
  },
  "language_info": {
   "codemirror_mode": {
    "name": "ipython",
    "version": 3
   },
   "file_extension": ".py",
   "mimetype": "text/x-python",
   "name": "python",
   "nbconvert_exporter": "python",
   "pygments_lexer": "ipython3",
   "version": "3.13.5"
  }
 },
 "nbformat": 4,
 "nbformat_minor": 5
}
